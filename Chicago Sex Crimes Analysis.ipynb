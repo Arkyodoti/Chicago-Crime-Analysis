{
 "cells": [
  {
   "cell_type": "code",
   "execution_count": 1,
   "metadata": {
    "collapsed": true
   },
   "outputs": [],
   "source": [
    "import pandas as pd\n",
    "import matplotlib.pyplot as plt\n",
    "import numpy as np"
   ]
  },
  {
   "cell_type": "code",
   "execution_count": 2,
   "metadata": {
    "collapsed": true
   },
   "outputs": [],
   "source": [
    "Crime_5_7 = pd.read_csv('C:\\\\Users\\\\kodur\\\\Documents\\\\Chicago_Crimes_2005_to_2007.csv.',\n",
    "                        na_values = [None, 'NaN','Nothing'], header = 0) \n",
    "Crime_8_11 = pd.read_csv('C:\\\\Users\\\\kodur\\\\Documents\\\\Chicago_Crimes_2008_to_2011.csv.',\n",
    "                        na_values = [None, 'NaN','Nothing'], header = 0) \n",
    "Crime_12_17 = pd.read_csv('C:\\\\Users\\\\kodur\\\\Documents\\\\Chicago_Crimes_2012_to_2017.csv.',\n",
    "                        na_values = [None, 'NaN','Nothing'], header = 0)"
   ]
  },
  {
   "cell_type": "code",
   "execution_count": 3,
   "metadata": {
    "collapsed": true
   },
   "outputs": [],
   "source": [
    "ZipCode_Data = pd.read_csv('C:\\\\Users\\\\kodur\\\\Documents\\\\Chicago_Zip_Data.csv.', header = 0)"
   ]
  },
  {
   "cell_type": "code",
   "execution_count": 4,
   "metadata": {
    "collapsed": true
   },
   "outputs": [],
   "source": [
    "Crime_Data = [Crime_5_7, Crime_8_11, Crime_12_17]\n",
    "del Crime_5_7\n",
    "del Crime_8_11\n",
    "del Crime_12_17\n",
    "Crime_Data = pd.concat(Crime_Data,axis = 0)"
   ]
  },
  {
   "cell_type": "code",
   "execution_count": 5,
   "metadata": {
    "collapsed": true
   },
   "outputs": [],
   "source": [
    "Crime_Data.drop_duplicates(subset=['ID', 'Case Number'], inplace=True)"
   ]
  },
  {
   "cell_type": "code",
   "execution_count": 6,
   "metadata": {
    "collapsed": true
   },
   "outputs": [],
   "source": [
    "Crime_Data.drop(['Unnamed: 0','Case Number','IUCR','FBI Code','Location',\n",
    "                 'X Coordinate','Y Coordinate','Location'], inplace = True, axis = 1)"
   ]
  },
  {
   "cell_type": "code",
   "execution_count": null,
   "metadata": {
    "collapsed": true
   },
   "outputs": [],
   "source": [
    "Crime_Data.Date = pd.to_datetime(Crime_Data.Date, format = '%m/%d/%Y %I:%M:%S %p')\n",
    "Crime_Data['Updated On'] = pd.to_datetime(Crime_Data['Updated On'], format = '%m/%d/%Y %I:%M:%S %p')\n",
    "Crime_Data.index = pd.DatetimeIndex(Crime_Data.Date)"
   ]
  },
  {
   "cell_type": "code",
   "execution_count": null,
   "metadata": {
    "collapsed": true
   },
   "outputs": [],
   "source": [
    "#will look into time it takes for an arrest later, so creating column for it\n",
    "#turning other parts of data into categorical parts for later machine learning applications\n",
    "Crime_Data['ArrestTime'] = Crime_Data['Updated On'] - Crime_Data.Date\n",
    "Crime_Data['Primary Type'] = pd.Categorical(Crime_Data['Primary Type'])\n",
    "Crime_Data['Description'] = pd.Categorical(Crime_Data['Description'])\n",
    "Crime_Data['Location Description'] = pd.Categorical(Crime_Data['Location Description'])"
   ]
  },
  {
   "cell_type": "code",
   "execution_count": null,
   "metadata": {
    "collapsed": true
   },
   "outputs": [],
   "source": [
    "Groups = Crime_Data.groupby(Crime_Data['Primary Type'])\n",
    "Groups = dict(list(Groups))\n",
    "Keys = list(Groups.keys())"
   ]
  },
  {
   "cell_type": "code",
   "execution_count": null,
   "metadata": {
    "collapsed": true
   },
   "outputs": [],
   "source": [
    "#grouping sex crimes together to look into\n",
    "SexCrimes_Data = [Groups['CRIM SEXUAL ASSAULT'], Groups['HUMAN TRAFFICKING'],\n",
    "                  Groups['OFFENSE INVOLVING CHILDREN'], Groups['PROSTITUTION'],\n",
    "                  Groups['SEX OFFENSE'], Groups['STALKING']]\n",
    "SexCrimes_Data = pd.concat(SexCrimes_Data, axis = 0)\n",
    "del Crime_Data\n",
    "del Groups\n",
    "del Keys"
   ]
  },
  {
   "cell_type": "code",
   "execution_count": null,
   "metadata": {
    "collapsed": true
   },
   "outputs": [],
   "source": [
    "SexCrimeZipData = pd.read_csv('C:\\\\Users\\\\kodur\\\\Documents\\\\ChicagoSexCrimesZipCodeData.csv',header = 0)"
   ]
  },
  {
   "cell_type": "code",
   "execution_count": null,
   "metadata": {
    "collapsed": true
   },
   "outputs": [],
   "source": []
  }
 ],
 "metadata": {
  "kernelspec": {
   "display_name": "Python 3",
   "language": "python",
   "name": "python3"
  },
  "language_info": {
   "codemirror_mode": {
    "name": "ipython",
    "version": 3
   },
   "file_extension": ".py",
   "mimetype": "text/x-python",
   "name": "python",
   "nbconvert_exporter": "python",
   "pygments_lexer": "ipython3",
   "version": "3.6.1"
  }
 },
 "nbformat": 4,
 "nbformat_minor": 2
}
